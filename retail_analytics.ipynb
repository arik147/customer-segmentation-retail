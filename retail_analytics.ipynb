{
 "cells": [
  {
   "cell_type": "code",
   "execution_count": 75,
   "id": "79f16411",
   "metadata": {},
   "outputs": [
    {
     "name": "stdout",
     "output_type": "stream",
     "text": [
      "   CustomerID ProductID  Quantity      Price   TransactionDate PaymentMethod  \\\n",
      "0      109318         C         7  80.079844  12/26/2023 12:32          Cash   \n",
      "1      993229         C         4  75.195229     8/5/2023 0:00          Cash   \n",
      "2      579675         A         8  31.528816   3/11/2024 18:51          Cash   \n",
      "3      799826         D         5  98.880218  10/27/2023 22:00        PayPal   \n",
      "4      121413         A         7  93.188512  12/22/2023 11:38          Cash   \n",
      "\n",
      "                                       StoreLocation ProductCategory  \\\n",
      "0            176 Andrew Cliffs\\nBaileyfort, HI 93354           Books   \n",
      "1  11635 William Well Suite 809\\nEast Kara, MT 19483      Home Decor   \n",
      "2  910 Mendez Ville Suite 909\\nPort Lauraland, MO...           Books   \n",
      "3  87522 Sharon Corners Suite 500\\nLake Tammy, MO...           Books   \n",
      "4   0070 Michelle Island Suite 143\\nHoland, VA 80142     Electronics   \n",
      "\n",
      "   DiscountApplied(%)  TotalAmount  \n",
      "0           18.677100   455.862764  \n",
      "1           14.121365   258.306546  \n",
      "2           15.943701   212.015651  \n",
      "3            6.686337   461.343769  \n",
      "4            4.030096   626.030484  \n",
      "<class 'pandas.core.frame.DataFrame'>\n",
      "RangeIndex: 100000 entries, 0 to 99999\n",
      "Data columns (total 10 columns):\n",
      " #   Column              Non-Null Count   Dtype  \n",
      "---  ------              --------------   -----  \n",
      " 0   CustomerID          100000 non-null  int64  \n",
      " 1   ProductID           100000 non-null  object \n",
      " 2   Quantity            100000 non-null  int64  \n",
      " 3   Price               100000 non-null  float64\n",
      " 4   TransactionDate     100000 non-null  object \n",
      " 5   PaymentMethod       100000 non-null  object \n",
      " 6   StoreLocation       100000 non-null  object \n",
      " 7   ProductCategory     100000 non-null  object \n",
      " 8   DiscountApplied(%)  100000 non-null  float64\n",
      " 9   TotalAmount         100000 non-null  float64\n",
      "dtypes: float64(3), int64(2), object(5)\n",
      "memory usage: 7.6+ MB\n",
      "None\n",
      "CustomerID            0\n",
      "ProductID             0\n",
      "Quantity              0\n",
      "Price                 0\n",
      "TransactionDate       0\n",
      "PaymentMethod         0\n",
      "StoreLocation         0\n",
      "ProductCategory       0\n",
      "DiscountApplied(%)    0\n",
      "TotalAmount           0\n",
      "dtype: int64\n",
      "           CustomerID ProductID       Quantity          Price TransactionDate  \\\n",
      "count   100000.000000    100000  100000.000000  100000.000000          100000   \n",
      "unique            NaN         4            NaN            NaN           91025   \n",
      "top               NaN         C            NaN            NaN  4/3/2024 23:55   \n",
      "freq              NaN     25209            NaN            NaN               5   \n",
      "mean    500463.982180       NaN       5.009290      55.067344             NaN   \n",
      "std     288460.917524       NaN       2.579808      25.971567             NaN   \n",
      "min         14.000000       NaN       1.000000      10.000430             NaN   \n",
      "25%     250693.750000       NaN       3.000000      32.549474             NaN   \n",
      "50%     499679.000000       NaN       5.000000      55.116789             NaN   \n",
      "75%     751104.750000       NaN       7.000000      77.456763             NaN   \n",
      "max     999997.000000       NaN       9.000000      99.999284             NaN   \n",
      "\n",
      "       PaymentMethod                            StoreLocation ProductCategory  \\\n",
      "count         100000                                   100000          100000   \n",
      "unique             4                                   100000               4   \n",
      "top           PayPal  176 Andrew Cliffs\\nBaileyfort, HI 93354        Clothing   \n",
      "freq           25067                                        1           25056   \n",
      "mean             NaN                                      NaN             NaN   \n",
      "std              NaN                                      NaN             NaN   \n",
      "min              NaN                                      NaN             NaN   \n",
      "25%              NaN                                      NaN             NaN   \n",
      "50%              NaN                                      NaN             NaN   \n",
      "75%              NaN                                      NaN             NaN   \n",
      "max              NaN                                      NaN             NaN   \n",
      "\n",
      "        DiscountApplied(%)    TotalAmount  \n",
      "count        100000.000000  100000.000000  \n",
      "unique                 NaN            NaN  \n",
      "top                    NaN            NaN  \n",
      "freq                   NaN            NaN  \n",
      "mean             10.020155     248.334955  \n",
      "std               5.779534     184.554792  \n",
      "min               0.000046       8.274825  \n",
      "25%               5.001013      95.163418  \n",
      "50%              10.030353     200.368393  \n",
      "75%              15.018367     362.009980  \n",
      "max              19.999585     896.141242  \n"
     ]
    }
   ],
   "source": [
    "import pandas as pd\n",
    "\n",
    "# Load dataset\n",
    "df = pd.read_csv(\"Retail_Transaction_Dataset.csv\")\n",
    "\n",
    "# Lihat 5 baris pertama\n",
    "# display(df.head())\n",
    "print(df.head())\n",
    "\n",
    "# Info kolom & tipe data\n",
    "print(df.info())\n",
    "\n",
    "# Cek missing values\n",
    "print(df.isnull().sum())\n",
    "\n",
    "# Statistik ringkasan\n",
    "print(df.describe(include='all'))\n"
   ]
  },
  {
   "cell_type": "code",
   "execution_count": 76,
   "id": "fba4c36c",
   "metadata": {},
   "outputs": [],
   "source": [
    "df['TransactionDate'] = pd.to_datetime(df['TransactionDate'])\n",
    "\n",
    "df['Year'] = df['TransactionDate'].dt.year\n",
    "df['Month'] = df['TransactionDate'].dt.month\n",
    "df['Day'] = df['TransactionDate'].dt.day\n",
    "df['Weekday'] = df['TransactionDate'].dt.day_name()\n",
    "df['Hour'] = df['TransactionDate'].dt.hour\n",
    "\n",
    "df.columns = df.columns.str.strip().str.lower().str.replace(\" \", \"_\").str.replace(\"(\", \"\").str.replace(\")\", \"\").str.replace(\"%\", \"\")\n"
   ]
  },
  {
   "cell_type": "code",
   "execution_count": 77,
   "id": "168f4daa",
   "metadata": {},
   "outputs": [
    {
     "name": "stdout",
     "output_type": "stream",
     "text": [
      "Index(['customerid', 'productid', 'quantity', 'price', 'transactiondate',\n",
      "       'paymentmethod', 'storelocation', 'productcategory', 'discountapplied',\n",
      "       'totalamount', 'year', 'month', 'day', 'weekday', 'hour'],\n",
      "      dtype='object')\n"
     ]
    }
   ],
   "source": [
    "print(df.columns)"
   ]
  },
  {
   "cell_type": "code",
   "execution_count": 78,
   "id": "3aaf68af",
   "metadata": {},
   "outputs": [],
   "source": [
    "df['price_after_discount'] = df['price'] * (1 - df['discountapplied']/100)\n",
    "df['revenue'] = df['price_after_discount'] * df['quantity']\n"
   ]
  },
  {
   "cell_type": "code",
   "execution_count": 79,
   "id": "4596537a",
   "metadata": {},
   "outputs": [
    {
     "data": {
      "text/plain": [
       "0"
      ]
     },
     "execution_count": 79,
     "metadata": {},
     "output_type": "execute_result"
    }
   ],
   "source": [
    "df.duplicated().sum()\n"
   ]
  },
  {
   "cell_type": "markdown",
   "id": "c5fa6a72",
   "metadata": {},
   "source": [
    "Lets explore for more Insight!"
   ]
  },
  {
   "cell_type": "code",
   "execution_count": 80,
   "id": "2d7fb3e3",
   "metadata": {},
   "outputs": [
    {
     "name": "stdout",
     "output_type": "stream",
     "text": [
      "  productid  quantity\n",
      "0         C    125978\n",
      "1         D    125786\n",
      "2         B    125070\n",
      "3         A    124095\n"
     ]
    }
   ],
   "source": [
    "top_products = df.groupby('productid')['quantity'].sum().sort_values(ascending=False).reset_index()\n",
    "print(top_products.head(10))\n"
   ]
  },
  {
   "cell_type": "code",
   "execution_count": 81,
   "id": "bc9e4354",
   "metadata": {},
   "outputs": [
    {
     "name": "stdout",
     "output_type": "stream",
     "text": [
      "  productid       revenue\n",
      "0         C  6.243649e+06\n",
      "1         D  6.242925e+06\n",
      "2         B  6.208130e+06\n",
      "3         A  6.138792e+06\n"
     ]
    }
   ],
   "source": [
    "df['revenue'] = df['price'] * df['quantity'] * (1 - df['discountapplied'] / 100)\n",
    "top_revenue_products = df.groupby('productid')['revenue'].sum().sort_values(ascending=False).reset_index()\n",
    "print(top_revenue_products.head(10))\n"
   ]
  },
  {
   "cell_type": "code",
   "execution_count": 82,
   "id": "12f8f4fc",
   "metadata": {},
   "outputs": [
    {
     "name": "stdout",
     "output_type": "stream",
     "text": [
      "                                       storelocation     revenue\n",
      "0            693 Williams Pine\\nRobertside, WI 23415  896.141242\n",
      "1             8978 Angela Forge\\nGrossfort, LA 99907  895.343955\n",
      "2              0303 Keith Manor\\nJuliaport, NY 08811  893.509454\n",
      "3  797 Sanders Landing Apt. 719\\nNorth Terry, NY ...  892.538546\n",
      "4            8889 Carr Mission\\nRonaldview, TN 69021  892.253248\n",
      "5                            USNV Diaz\\nFPO AA 22844  892.240154\n",
      "6              9432 King Keys\\nSchmidttown, MA 64018  890.821751\n",
      "7       3180 Danielle Canyon\\nMorrisonland, MA 50656  890.688556\n",
      "8         35822 Andrews Trace\\nLandrymouth, VI 18721  889.148765\n",
      "9                           USNS Blake\\nFPO AE 15466  888.417599\n"
     ]
    }
   ],
   "source": [
    "sales_by_city = df.groupby('storelocation')['revenue'].sum().sort_values(ascending=False).reset_index()\n",
    "print(sales_by_city.head(10))\n"
   ]
  },
  {
   "cell_type": "code",
   "execution_count": 83,
   "id": "0a897890",
   "metadata": {},
   "outputs": [
    {
     "name": "stdout",
     "output_type": "stream",
     "text": [
      "hour\n",
      "0     4118\n",
      "1     4247\n",
      "2     4135\n",
      "3     4147\n",
      "4     4226\n",
      "5     4198\n",
      "6     4163\n",
      "7     4231\n",
      "8     4172\n",
      "9     4238\n",
      "10    4162\n",
      "11    4180\n",
      "12    4078\n",
      "13    4130\n",
      "14    4142\n",
      "15    4052\n",
      "16    4210\n",
      "17    4186\n",
      "18    4184\n",
      "19    4283\n",
      "20    4194\n",
      "21    4188\n",
      "22    4008\n",
      "23    4128\n",
      "Name: count, dtype: int64\n"
     ]
    }
   ],
   "source": [
    "transactions_by_hour = df['hour'].value_counts().sort_index()\n",
    "print(transactions_by_hour)\n"
   ]
  },
  {
   "cell_type": "code",
   "execution_count": 84,
   "id": "df7332c8",
   "metadata": {},
   "outputs": [
    {
     "name": "stdout",
     "output_type": "stream",
     "text": [
      "paymentmethod\n",
      "PayPal         25067\n",
      "Credit Card    25034\n",
      "Cash           25008\n",
      "Debit Card     24891\n",
      "Name: count, dtype: int64\n"
     ]
    }
   ],
   "source": [
    "payment_methods = df['paymentmethod'].value_counts()\n",
    "print(payment_methods)\n"
   ]
  },
  {
   "cell_type": "markdown",
   "id": "ebf328d0",
   "metadata": {},
   "source": [
    "RFM (Recency, Frequency, Monetary)"
   ]
  },
  {
   "cell_type": "code",
   "execution_count": 85,
   "id": "ab69d682",
   "metadata": {},
   "outputs": [
    {
     "name": "stdout",
     "output_type": "stream",
     "text": [
      "Snapshot date: 2024-04-29 22:22:00\n"
     ]
    }
   ],
   "source": [
    "import datetime as dt\n",
    "\n",
    "snapshot_date = df['transactiondate'].max() + dt.timedelta(days=1)\n",
    "print(f\"Snapshot date: {snapshot_date}\")\n"
   ]
  },
  {
   "cell_type": "code",
   "execution_count": null,
   "id": "4d7f05f9",
   "metadata": {},
   "outputs": [],
   "source": [
    "# Hitung Recency secara terpisah\n",
    "recency_df = df.groupby('customerid').agg({\n",
    "    'transactiondate': lambda x: (snapshot_date - x.max()).days\n",
    "}).rename(columns={'transactiondate': 'Recency'})\n",
    "\n",
    "# Hitung Frequency dan Monetary\n",
    "fm_df = df.groupby('customerid').agg({\n",
    "    'transactiondate': 'count',\n",
    "    'revenue': 'sum'\n",
    "}).rename(columns={'transactiondate': 'Frequency', 'revenue': 'Monetary'})\n",
    "\n",
    "# Gabungkan semuanya\n",
    "rfm = recency_df.join(fm_df).reset_index()\n",
    "print(rfm.head())\n"
   ]
  },
  {
   "cell_type": "code",
   "execution_count": null,
   "id": "dc419827",
   "metadata": {},
   "outputs": [],
   "source": [
    "# Skor RFM (1 = terburuk, 5 = terbaik)\n",
    "rfm['R'] = pd.qcut(rfm['Recency'], 5, labels=[5, 4, 3, 2, 1])\n",
    "rfm['F'] = pd.qcut(rfm['Frequency'].rank(method=\"first\"), 5, labels=[1, 2, 3, 4, 5])\n",
    "rfm['M'] = pd.qcut(rfm['Monetary'], 5, labels=[1, 2, 3, 4, 5])\n",
    "\n",
    "# Gabungkan menjadi satu skor\n",
    "rfm['RFM_Score'] = rfm['R'].astype(str) + rfm['F'].astype(str) + rfm['M'].astype(str)\n"
   ]
  },
  {
   "cell_type": "code",
   "execution_count": null,
   "id": "0f7ec612",
   "metadata": {},
   "outputs": [
    {
     "name": "stdout",
     "output_type": "stream",
     "text": [
      "   customerid  Recency  Frequency    Monetary  R  F  M RFM_Score\n",
      "0          14      267          1  256.232791  2  1  3       213\n",
      "1          42      346          1  502.656523  1  1  5       115\n",
      "2          49      329          1   21.399047  1  1  1       111\n",
      "3          59       28          2  249.492696  5  5  3       553\n",
      "4          65      316          1  548.006625  1  1  5       115\n"
     ]
    },
    {
     "data": {
      "text/plain": [
       "RFM_Score\n",
       "555    1492\n",
       "455    1207\n",
       "355    1053\n",
       "554     934\n",
       "123     843\n",
       "342     840\n",
       "214     840\n",
       "454     838\n",
       "241     834\n",
       "124     830\n",
       "Name: count, dtype: int64"
      ]
     },
     "execution_count": 66,
     "metadata": {},
     "output_type": "execute_result"
    }
   ],
   "source": [
    "# Lihat beberapa data\n",
    "print(rfm.head())\n",
    "\n",
    "# Lihat distribusi skor\n",
    "rfm['RFM_Score'].value_counts().head(10)\n"
   ]
  },
  {
   "cell_type": "code",
   "execution_count": null,
   "id": "2ae987ad",
   "metadata": {},
   "outputs": [
    {
     "name": "stdout",
     "output_type": "stream",
     "text": [
      "Segment\n",
      "Frequent Buyers     22083\n",
      "Loyal Customers     16135\n",
      "Recent Customers    14808\n",
      "Big Spenders        13303\n",
      "Others              11850\n",
      "Lost                 9721\n",
      "Champions            7315\n",
      "Name: count, dtype: int64\n"
     ]
    }
   ],
   "source": [
    "# def rfm_segment(row):\n",
    "#     if row['RFM_Score'] == '555':\n",
    "#         return 'Champions'\n",
    "#     elif row['R'] == '5' and row['F'] in ['4', '5']:\n",
    "#         return 'Loyal Customers'\n",
    "#     elif row['R'] == '5':\n",
    "#         return 'Recent Customers'\n",
    "#     elif row['F'] == '5':\n",
    "#         return 'Frequent Buyers'\n",
    "#     elif row['M'] == '5':\n",
    "#         return 'Big Spenders'\n",
    "#     elif row['R'] in ['3', '4'] and row['F'] in ['2', '3']:\n",
    "#         return 'Potential Loyalists'\n",
    "#     elif row['R'] in ['1', '2'] and row['F'] in ['4', '5']:\n",
    "#         return 'At Risk'\n",
    "#     elif row['R'] == '1' and row['F'] in ['1', '2']:\n",
    "#         return 'Lost'\n",
    "#     else:\n",
    "#         return 'Others'\n",
    "\n",
    "# # Terapkan ke dataframe\n",
    "# rfm['Segment'] = rfm.apply(rfm_segment, axis=1)\n",
    "\n",
    "# # Lihat distribusi segmentasi\n",
    "# print(rfm['Segment'].value_counts())\n",
    "\n",
    "def rfm_segment_v2(row):\n",
    "    r = int(row['R'])\n",
    "    f = int(row['F'])\n",
    "    m = int(row['M'])\n",
    "\n",
    "    if r >= 4 and f >= 4 and m >= 4:\n",
    "        return 'Champions'\n",
    "    elif r >= 4 and f >= 3:\n",
    "        return 'Loyal Customers'\n",
    "    elif r >= 4:\n",
    "        return 'Recent Customers'\n",
    "    elif f >= 4:\n",
    "        return 'Frequent Buyers'\n",
    "    elif m >= 4:\n",
    "        return 'Big Spenders'\n",
    "    elif r <= 2 and f <= 2:\n",
    "        return 'Lost'\n",
    "    else:\n",
    "        return 'Others'\n",
    "\n",
    "rfm['Segment'] = rfm.apply(rfm_segment_v2, axis=1)\n",
    "print(rfm['Segment'].value_counts())\n",
    "\n"
   ]
  },
  {
   "cell_type": "code",
   "execution_count": null,
   "id": "e0a50068",
   "metadata": {},
   "outputs": [],
   "source": [
    "# rfm.to_csv('rfm_segmented.csv', index=False)\n"
   ]
  },
  {
   "cell_type": "code",
   "execution_count": null,
   "id": "7fbbcd06",
   "metadata": {},
   "outputs": [
    {
     "name": "stdout",
     "output_type": "stream",
     "text": [
      "             Segment productid  quantity\n",
      "0       Big Spenders         C     23267\n",
      "1       Big Spenders         D     23071\n",
      "2       Big Spenders         A     22970\n",
      "3          Champions         D     15503\n",
      "4          Champions         B     15147\n",
      "5          Champions         A     15081\n",
      "6    Frequent Buyers         B     30165\n",
      "7    Frequent Buyers         C     29921\n",
      "8    Frequent Buyers         D     29800\n",
      "9               Lost         C      9610\n",
      "10              Lost         A      9461\n",
      "11              Lost         D      9248\n",
      "12   Loyal Customers         B     18144\n",
      "13   Loyal Customers         C     18054\n",
      "14   Loyal Customers         A     17951\n",
      "15            Others         C     11593\n",
      "16            Others         D     11517\n",
      "17            Others         B     11396\n",
      "18  Recent Customers         D     18812\n",
      "19  Recent Customers         C     18662\n",
      "20  Recent Customers         A     18403\n"
     ]
    }
   ],
   "source": [
    "# Gabungkan RFM segment ke dataset utama\n",
    "df_segmented = df.merge(rfm[['customerid', 'Segment']], on='customerid', how='left')\n",
    "\n",
    "# Hitung total quantity produk per segmen\n",
    "popular_products = df_segmented.groupby(['Segment', 'productid'])['quantity'].sum().reset_index()\n",
    "\n",
    "# Ambil top 3 produk per segmen\n",
    "top_products_per_segment = (\n",
    "    popular_products.sort_values(['Segment', 'quantity'], ascending=[True, False])\n",
    "    .groupby('Segment')\n",
    "    .head(3)\n",
    "    .reset_index(drop=True)\n",
    ")\n",
    "\n",
    "print(top_products_per_segment)\n"
   ]
  },
  {
   "cell_type": "code",
   "execution_count": null,
   "id": "df9e1820",
   "metadata": {},
   "outputs": [
    {
     "data": {
      "image/png": "[encoded data removed]",
      "text/plain": [
       "<Figure size 1400x700 with 1 Axes>"
      ]
     },
     "metadata": {},
     "output_type": "display_data"
    }
   ],
   "source": [
    "import matplotlib.pyplot as plt\n",
    "import seaborn as sns\n",
    "\n",
    "# Set style biar clean dan enak dilihat\n",
    "sns.set(style=\"whitegrid\")\n",
    "plt.figure(figsize=(14, 7))\n",
    "\n",
    "# Plot barplot\n",
    "sns.barplot(\n",
    "    data=top_products_per_segment,\n",
    "    x=\"productid\",\n",
    "    y=\"quantity\",\n",
    "    hue=\"Segment\",\n",
    "    palette=\"Set2\"\n",
    ")\n",
    "\n",
    "# Tambahin judul & label\n",
    "plt.title(\"Top Produk Berdasarkan Segmentasi Pelanggan\", fontsize=16)\n",
    "plt.xlabel(\"Product ID\")\n",
    "plt.ylabel(\"Total Quantity Sold\")\n",
    "plt.legend(title=\"Customer Segment\", bbox_to_anchor=(1.05, 1), loc='upper left')\n",
    "plt.tight_layout()\n",
    "plt.show()\n"
   ]
  },
  {
   "cell_type": "code",
   "execution_count": null,
   "id": "5882dba1",
   "metadata": {},
   "outputs": [
    {
     "ename": "KeyError",
     "evalue": "'Segment'",
     "output_type": "error",
     "traceback": [
      "\u001b[1;31m---------------------------------------------------------------------------\u001b[0m",
      "\u001b[1;31mKeyError\u001b[0m                                  Traceback (most recent call last)",
      "Cell \u001b[1;32mIn[74], line 5\u001b[0m\n\u001b[0;32m      2\u001b[0m \u001b[38;5;28;01mimport\u001b[39;00m \u001b[38;5;21;01mmatplotlib\u001b[39;00m\u001b[38;5;21;01m.\u001b[39;00m\u001b[38;5;21;01mpyplot\u001b[39;00m \u001b[38;5;28;01mas\u001b[39;00m \u001b[38;5;21;01mplt\u001b[39;00m\n\u001b[0;32m      4\u001b[0m \u001b[38;5;66;03m# Buat pivot table untuk heatmap\u001b[39;00m\n\u001b[1;32m----> 5\u001b[0m heatmap_data \u001b[38;5;241m=\u001b[39m \u001b[43mdf\u001b[49m\u001b[38;5;241;43m.\u001b[39;49m\u001b[43mgroupby\u001b[49m\u001b[43m(\u001b[49m\u001b[43m[\u001b[49m\u001b[38;5;124;43m'\u001b[39;49m\u001b[38;5;124;43mSegment\u001b[39;49m\u001b[38;5;124;43m'\u001b[39;49m\u001b[43m,\u001b[49m\u001b[43m \u001b[49m\u001b[38;5;124;43m'\u001b[39;49m\u001b[38;5;124;43mproductid\u001b[39;49m\u001b[38;5;124;43m'\u001b[39;49m\u001b[43m]\u001b[49m\u001b[43m)\u001b[49m[\u001b[38;5;124m'\u001b[39m\u001b[38;5;124mquantity\u001b[39m\u001b[38;5;124m'\u001b[39m]\u001b[38;5;241m.\u001b[39msum()\u001b[38;5;241m.\u001b[39mreset_index()\n\u001b[0;32m      6\u001b[0m pivot_table \u001b[38;5;241m=\u001b[39m heatmap_data\u001b[38;5;241m.\u001b[39mpivot(index\u001b[38;5;241m=\u001b[39m\u001b[38;5;124m'\u001b[39m\u001b[38;5;124mSegment\u001b[39m\u001b[38;5;124m'\u001b[39m, columns\u001b[38;5;241m=\u001b[39m\u001b[38;5;124m'\u001b[39m\u001b[38;5;124mproductid\u001b[39m\u001b[38;5;124m'\u001b[39m, values\u001b[38;5;241m=\u001b[39m\u001b[38;5;124m'\u001b[39m\u001b[38;5;124mquantity\u001b[39m\u001b[38;5;124m'\u001b[39m)\n\u001b[0;32m      8\u001b[0m \u001b[38;5;66;03m# Plot heatmap\u001b[39;00m\n",
      "File \u001b[1;32m~\\AppData\\Local\\Packages\\PythonSoftwareFoundation.Python.3.11_qbz5n2kfra8p0\\LocalCache\\local-packages\\Python311\\site-packages\\pandas\\core\\frame.py:9183\u001b[0m, in \u001b[0;36mDataFrame.groupby\u001b[1;34m(self, by, axis, level, as_index, sort, group_keys, observed, dropna)\u001b[0m\n\u001b[0;32m   9180\u001b[0m \u001b[38;5;28;01mif\u001b[39;00m level \u001b[38;5;129;01mis\u001b[39;00m \u001b[38;5;28;01mNone\u001b[39;00m \u001b[38;5;129;01mand\u001b[39;00m by \u001b[38;5;129;01mis\u001b[39;00m \u001b[38;5;28;01mNone\u001b[39;00m:\n\u001b[0;32m   9181\u001b[0m     \u001b[38;5;28;01mraise\u001b[39;00m \u001b[38;5;167;01mTypeError\u001b[39;00m(\u001b[38;5;124m\"\u001b[39m\u001b[38;5;124mYou have to supply one of \u001b[39m\u001b[38;5;124m'\u001b[39m\u001b[38;5;124mby\u001b[39m\u001b[38;5;124m'\u001b[39m\u001b[38;5;124m and \u001b[39m\u001b[38;5;124m'\u001b[39m\u001b[38;5;124mlevel\u001b[39m\u001b[38;5;124m'\u001b[39m\u001b[38;5;124m\"\u001b[39m)\n\u001b[1;32m-> 9183\u001b[0m \u001b[38;5;28;01mreturn\u001b[39;00m \u001b[43mDataFrameGroupBy\u001b[49m\u001b[43m(\u001b[49m\n\u001b[0;32m   9184\u001b[0m \u001b[43m    \u001b[49m\u001b[43mobj\u001b[49m\u001b[38;5;241;43m=\u001b[39;49m\u001b[38;5;28;43mself\u001b[39;49m\u001b[43m,\u001b[49m\n\u001b[0;32m   9185\u001b[0m \u001b[43m    \u001b[49m\u001b[43mkeys\u001b[49m\u001b[38;5;241;43m=\u001b[39;49m\u001b[43mby\u001b[49m\u001b[43m,\u001b[49m\n\u001b[0;32m   9186\u001b[0m \u001b[43m    \u001b[49m\u001b[43maxis\u001b[49m\u001b[38;5;241;43m=\u001b[39;49m\u001b[43maxis\u001b[49m\u001b[43m,\u001b[49m\n\u001b[0;32m   9187\u001b[0m \u001b[43m    \u001b[49m\u001b[43mlevel\u001b[49m\u001b[38;5;241;43m=\u001b[39;49m\u001b[43mlevel\u001b[49m\u001b[43m,\u001b[49m\n\u001b[0;32m   9188\u001b[0m \u001b[43m    \u001b[49m\u001b[43mas_index\u001b[49m\u001b[38;5;241;43m=\u001b[39;49m\u001b[43mas_index\u001b[49m\u001b[43m,\u001b[49m\n\u001b[0;32m   9189\u001b[0m \u001b[43m    \u001b[49m\u001b[43msort\u001b[49m\u001b[38;5;241;43m=\u001b[39;49m\u001b[43msort\u001b[49m\u001b[43m,\u001b[49m\n\u001b[0;32m   9190\u001b[0m \u001b[43m    \u001b[49m\u001b[43mgroup_keys\u001b[49m\u001b[38;5;241;43m=\u001b[39;49m\u001b[43mgroup_keys\u001b[49m\u001b[43m,\u001b[49m\n\u001b[0;32m   9191\u001b[0m \u001b[43m    \u001b[49m\u001b[43mobserved\u001b[49m\u001b[38;5;241;43m=\u001b[39;49m\u001b[43mobserved\u001b[49m\u001b[43m,\u001b[49m\n\u001b[0;32m   9192\u001b[0m \u001b[43m    \u001b[49m\u001b[43mdropna\u001b[49m\u001b[38;5;241;43m=\u001b[39;49m\u001b[43mdropna\u001b[49m\u001b[43m,\u001b[49m\n\u001b[0;32m   9193\u001b[0m \u001b[43m\u001b[49m\u001b[43m)\u001b[49m\n",
      "File \u001b[1;32m~\\AppData\\Local\\Packages\\PythonSoftwareFoundation.Python.3.11_qbz5n2kfra8p0\\LocalCache\\local-packages\\Python311\\site-packages\\pandas\\core\\groupby\\groupby.py:1329\u001b[0m, in \u001b[0;36mGroupBy.__init__\u001b[1;34m(self, obj, keys, axis, level, grouper, exclusions, selection, as_index, sort, group_keys, observed, dropna)\u001b[0m\n\u001b[0;32m   1326\u001b[0m \u001b[38;5;28mself\u001b[39m\u001b[38;5;241m.\u001b[39mdropna \u001b[38;5;241m=\u001b[39m dropna\n\u001b[0;32m   1328\u001b[0m \u001b[38;5;28;01mif\u001b[39;00m grouper \u001b[38;5;129;01mis\u001b[39;00m \u001b[38;5;28;01mNone\u001b[39;00m:\n\u001b[1;32m-> 1329\u001b[0m     grouper, exclusions, obj \u001b[38;5;241m=\u001b[39m \u001b[43mget_grouper\u001b[49m\u001b[43m(\u001b[49m\n\u001b[0;32m   1330\u001b[0m \u001b[43m        \u001b[49m\u001b[43mobj\u001b[49m\u001b[43m,\u001b[49m\n\u001b[0;32m   1331\u001b[0m \u001b[43m        \u001b[49m\u001b[43mkeys\u001b[49m\u001b[43m,\u001b[49m\n\u001b[0;32m   1332\u001b[0m \u001b[43m        \u001b[49m\u001b[43maxis\u001b[49m\u001b[38;5;241;43m=\u001b[39;49m\u001b[43maxis\u001b[49m\u001b[43m,\u001b[49m\n\u001b[0;32m   1333\u001b[0m \u001b[43m        \u001b[49m\u001b[43mlevel\u001b[49m\u001b[38;5;241;43m=\u001b[39;49m\u001b[43mlevel\u001b[49m\u001b[43m,\u001b[49m\n\u001b[0;32m   1334\u001b[0m \u001b[43m        \u001b[49m\u001b[43msort\u001b[49m\u001b[38;5;241;43m=\u001b[39;49m\u001b[43msort\u001b[49m\u001b[43m,\u001b[49m\n\u001b[0;32m   1335\u001b[0m \u001b[43m        \u001b[49m\u001b[43mobserved\u001b[49m\u001b[38;5;241;43m=\u001b[39;49m\u001b[38;5;28;43;01mFalse\u001b[39;49;00m\u001b[43m \u001b[49m\u001b[38;5;28;43;01mif\u001b[39;49;00m\u001b[43m \u001b[49m\u001b[43mobserved\u001b[49m\u001b[43m \u001b[49m\u001b[38;5;129;43;01mis\u001b[39;49;00m\u001b[43m \u001b[49m\u001b[43mlib\u001b[49m\u001b[38;5;241;43m.\u001b[39;49m\u001b[43mno_default\u001b[49m\u001b[43m \u001b[49m\u001b[38;5;28;43;01melse\u001b[39;49;00m\u001b[43m \u001b[49m\u001b[43mobserved\u001b[49m\u001b[43m,\u001b[49m\n\u001b[0;32m   1336\u001b[0m \u001b[43m        \u001b[49m\u001b[43mdropna\u001b[49m\u001b[38;5;241;43m=\u001b[39;49m\u001b[38;5;28;43mself\u001b[39;49m\u001b[38;5;241;43m.\u001b[39;49m\u001b[43mdropna\u001b[49m\u001b[43m,\u001b[49m\n\u001b[0;32m   1337\u001b[0m \u001b[43m    \u001b[49m\u001b[43m)\u001b[49m\n\u001b[0;32m   1339\u001b[0m \u001b[38;5;28;01mif\u001b[39;00m observed \u001b[38;5;129;01mis\u001b[39;00m lib\u001b[38;5;241m.\u001b[39mno_default:\n\u001b[0;32m   1340\u001b[0m     \u001b[38;5;28;01mif\u001b[39;00m \u001b[38;5;28many\u001b[39m(ping\u001b[38;5;241m.\u001b[39m_passed_categorical \u001b[38;5;28;01mfor\u001b[39;00m ping \u001b[38;5;129;01min\u001b[39;00m grouper\u001b[38;5;241m.\u001b[39mgroupings):\n",
      "File \u001b[1;32m~\\AppData\\Local\\Packages\\PythonSoftwareFoundation.Python.3.11_qbz5n2kfra8p0\\LocalCache\\local-packages\\Python311\\site-packages\\pandas\\core\\groupby\\grouper.py:1043\u001b[0m, in \u001b[0;36mget_grouper\u001b[1;34m(obj, key, axis, level, sort, observed, validate, dropna)\u001b[0m\n\u001b[0;32m   1041\u001b[0m         in_axis, level, gpr \u001b[38;5;241m=\u001b[39m \u001b[38;5;28;01mFalse\u001b[39;00m, gpr, \u001b[38;5;28;01mNone\u001b[39;00m\n\u001b[0;32m   1042\u001b[0m     \u001b[38;5;28;01melse\u001b[39;00m:\n\u001b[1;32m-> 1043\u001b[0m         \u001b[38;5;28;01mraise\u001b[39;00m \u001b[38;5;167;01mKeyError\u001b[39;00m(gpr)\n\u001b[0;32m   1044\u001b[0m \u001b[38;5;28;01melif\u001b[39;00m \u001b[38;5;28misinstance\u001b[39m(gpr, Grouper) \u001b[38;5;129;01mand\u001b[39;00m gpr\u001b[38;5;241m.\u001b[39mkey \u001b[38;5;129;01mis\u001b[39;00m \u001b[38;5;129;01mnot\u001b[39;00m \u001b[38;5;28;01mNone\u001b[39;00m:\n\u001b[0;32m   1045\u001b[0m     \u001b[38;5;66;03m# Add key to exclusions\u001b[39;00m\n\u001b[0;32m   1046\u001b[0m     exclusions\u001b[38;5;241m.\u001b[39madd(gpr\u001b[38;5;241m.\u001b[39mkey)\n",
      "\u001b[1;31mKeyError\u001b[0m: 'Segment'"
     ]
    }
   ],
   "source": [
    "import seaborn as sns\n",
    "import matplotlib.pyplot as plt\n",
    "\n",
    "# Buat pivot table untuk heatmap\n",
    "heatmap_data = df_segmented.groupby(['Segment', 'productid'])['quantity'].sum().reset_index()\n",
    "pivot_table = heatmap_data.pivot(index='Segment', columns='productid', values='quantity')\n",
    "\n",
    "# Plot heatmap\n",
    "plt.figure(figsize=(10, 6))\n",
    "sns.heatmap(pivot_table, annot=True, fmt=',.0f', cmap='YlGnBu')\n",
    "plt.title('Heatmap Quantity Produk vs Segment Pelanggan', fontsize=14)\n",
    "plt.xlabel('Product ID')\n",
    "plt.ylabel('Customer Segment')\n",
    "plt.tight_layout()\n",
    "plt.show()\n"
   ]
  }
 ],
 "metadata": {
  "kernelspec": {
   "display_name": "Python 3",
   "language": "python",
   "name": "python3"
  },
  "language_info": {
   "codemirror_mode": {
    "name": "ipython",
    "version": 3
   },
   "file_extension": ".py",
   "mimetype": "text/x-python",
   "name": "python",
   "nbconvert_exporter": "python",
   "pygments_lexer": "ipython3",
   "version": "3.11.9"
  }
 },
 "nbformat": 4,
 "nbformat_minor": 5
}
